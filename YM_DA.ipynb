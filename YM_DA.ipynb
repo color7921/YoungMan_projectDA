{
 "cells": [
  {
   "cell_type": "code",
   "execution_count": 1,
   "id": "7e542dd7-213f-4611-ae30-f9d81e29bfd5",
   "metadata": {},
   "outputs": [
    {
     "name": "stdout",
     "output_type": "stream",
     "text": [
      "Requirement already satisfied: opencv-python in c:\\users\\402-07\\anaconda3\\envs\\torch_book\\lib\\site-packages (4.8.1.78)\n",
      "Requirement already satisfied: easyocr in c:\\users\\402-07\\anaconda3\\envs\\torch_book\\lib\\site-packages (1.7.1)\n",
      "Requirement already satisfied: numpy>=1.17.0 in c:\\users\\402-07\\anaconda3\\envs\\torch_book\\lib\\site-packages (from opencv-python) (1.26.0)\n",
      "Requirement already satisfied: torch in c:\\users\\402-07\\anaconda3\\envs\\torch_book\\lib\\site-packages (from easyocr) (1.9.0)\n",
      "Requirement already satisfied: torchvision>=0.5 in c:\\users\\402-07\\anaconda3\\envs\\torch_book\\lib\\site-packages (from easyocr) (0.10.0)\n",
      "Requirement already satisfied: opencv-python-headless in c:\\users\\402-07\\anaconda3\\envs\\torch_book\\lib\\site-packages (from easyocr) (4.8.1.78)\n",
      "Requirement already satisfied: scipy in c:\\users\\402-07\\anaconda3\\envs\\torch_book\\lib\\site-packages (from easyocr) (1.11.4)\n",
      "Requirement already satisfied: Pillow in c:\\users\\402-07\\anaconda3\\envs\\torch_book\\lib\\site-packages (from easyocr) (10.1.0)\n",
      "Requirement already satisfied: scikit-image in c:\\users\\402-07\\anaconda3\\envs\\torch_book\\lib\\site-packages (from easyocr) (0.22.0)\n",
      "Requirement already satisfied: python-bidi in c:\\users\\402-07\\anaconda3\\envs\\torch_book\\lib\\site-packages (from easyocr) (0.4.2)\n",
      "Requirement already satisfied: PyYAML in c:\\users\\402-07\\anaconda3\\envs\\torch_book\\lib\\site-packages (from easyocr) (6.0.1)\n",
      "Requirement already satisfied: Shapely in c:\\users\\402-07\\anaconda3\\envs\\torch_book\\lib\\site-packages (from easyocr) (2.0.2)\n",
      "Requirement already satisfied: pyclipper in c:\\users\\402-07\\anaconda3\\envs\\torch_book\\lib\\site-packages (from easyocr) (1.3.0.post5)\n",
      "Requirement already satisfied: ninja in c:\\users\\402-07\\anaconda3\\envs\\torch_book\\lib\\site-packages (from easyocr) (1.11.1.1)\n",
      "Requirement already satisfied: typing_extensions in c:\\users\\402-07\\anaconda3\\envs\\torch_book\\lib\\site-packages (from torch->easyocr) (4.7.1)\n",
      "Requirement already satisfied: six in c:\\users\\402-07\\anaconda3\\envs\\torch_book\\lib\\site-packages (from python-bidi->easyocr) (1.16.0)\n",
      "Requirement already satisfied: networkx>=2.8 in c:\\users\\402-07\\anaconda3\\envs\\torch_book\\lib\\site-packages (from scikit-image->easyocr) (3.2.1)\n",
      "Requirement already satisfied: imageio>=2.27 in c:\\users\\402-07\\anaconda3\\envs\\torch_book\\lib\\site-packages (from scikit-image->easyocr) (2.33.1)\n",
      "Requirement already satisfied: tifffile>=2022.8.12 in c:\\users\\402-07\\anaconda3\\envs\\torch_book\\lib\\site-packages (from scikit-image->easyocr) (2023.12.9)\n",
      "Requirement already satisfied: packaging>=21 in c:\\users\\402-07\\anaconda3\\envs\\torch_book\\lib\\site-packages (from scikit-image->easyocr) (23.1)\n",
      "Requirement already satisfied: lazy_loader>=0.3 in c:\\users\\402-07\\anaconda3\\envs\\torch_book\\lib\\site-packages (from scikit-image->easyocr) (0.3)\n",
      "Note: you may need to restart the kernel to use updated packages.\n"
     ]
    }
   ],
   "source": [
    "pip install opencv-python easyocr"
   ]
  },
  {
   "cell_type": "code",
   "execution_count": 5,
   "id": "47ede5f5-09d9-4dc1-be00-834503b60e84",
   "metadata": {},
   "outputs": [
    {
     "ename": "NotADirectoryError",
     "evalue": "[WinError 267] 디렉터리 이름이 올바르지 않습니다: '/Users/402-07/Korean-Recognition/Python/tools/image-data-256/hangul-images/hangul_343.jpeg'",
     "output_type": "error",
     "traceback": [
      "\u001b[1;31m---------------------------------------------------------------------------\u001b[0m",
      "\u001b[1;31mNotADirectoryError\u001b[0m                        Traceback (most recent call last)",
      "Cell \u001b[1;32mIn[5], line 45\u001b[0m\n\u001b[0;32m     42\u001b[0m folder_path \u001b[38;5;241m=\u001b[39m \u001b[38;5;124m'\u001b[39m\u001b[38;5;124m/Users/402-07/Korean-Recognition/Python/tools/image-data-256/hangul-images/hangul_343.jpeg\u001b[39m\u001b[38;5;124m'\u001b[39m\n\u001b[0;32m     43\u001b[0m \u001b[38;5;66;03m# 언어 설정 및 이미지에서 텍스트 추출\u001b[39;00m\n\u001b[1;32m---> 45\u001b[0m text_result \u001b[38;5;241m=\u001b[39m \u001b[43mextract_text_from_image\u001b[49m\u001b[43m(\u001b[49m\u001b[43mfolder_path\u001b[49m\u001b[43m,\u001b[49m\u001b[43m \u001b[49m\u001b[43mlanguages\u001b[49m\u001b[38;5;241;43m=\u001b[39;49m\u001b[43m[\u001b[49m\u001b[38;5;124;43m'\u001b[39;49m\u001b[38;5;124;43men\u001b[39;49m\u001b[38;5;124;43m'\u001b[39;49m\u001b[43m,\u001b[49m\u001b[43m \u001b[49m\u001b[38;5;124;43m'\u001b[39;49m\u001b[38;5;124;43mko\u001b[39;49m\u001b[38;5;124;43m'\u001b[39;49m\u001b[43m]\u001b[49m\u001b[43m)\u001b[49m\n\u001b[0;32m     46\u001b[0m \u001b[38;5;28mprint\u001b[39m(a)\n",
      "Cell \u001b[1;32mIn[5], line 12\u001b[0m, in \u001b[0;36mextract_text_from_image\u001b[1;34m(folder_path, languages)\u001b[0m\n\u001b[0;32m      7\u001b[0m \u001b[38;5;28;01mdef\u001b[39;00m \u001b[38;5;21mextract_text_from_image\u001b[39m(folder_path, languages\u001b[38;5;241m=\u001b[39m[\u001b[38;5;124m'\u001b[39m\u001b[38;5;124men\u001b[39m\u001b[38;5;124m'\u001b[39m, \u001b[38;5;124m'\u001b[39m\u001b[38;5;124mko\u001b[39m\u001b[38;5;124m'\u001b[39m]):\n\u001b[0;32m      8\u001b[0m     \u001b[38;5;66;03m# OCR 리더 초기화\u001b[39;00m\n\u001b[0;32m      9\u001b[0m     \n\u001b[0;32m     10\u001b[0m     \n\u001b[0;32m     11\u001b[0m     \u001b[38;5;66;03m# List all files in the folder\u001b[39;00m\n\u001b[1;32m---> 12\u001b[0m     all_files \u001b[38;5;241m=\u001b[39m \u001b[43mos\u001b[49m\u001b[38;5;241;43m.\u001b[39;49m\u001b[43mlistdir\u001b[49m\u001b[43m(\u001b[49m\u001b[43mfolder_path\u001b[49m\u001b[43m)\u001b[49m\n\u001b[0;32m     14\u001b[0m     image_files \u001b[38;5;241m=\u001b[39m [file \u001b[38;5;28;01mfor\u001b[39;00m file \u001b[38;5;129;01min\u001b[39;00m all_files \u001b[38;5;28;01mif\u001b[39;00m file\u001b[38;5;241m.\u001b[39mendswith(\u001b[38;5;124m'\u001b[39m\u001b[38;5;124m.jpeg\u001b[39m\u001b[38;5;124m'\u001b[39m)]\n\u001b[0;32m     15\u001b[0m     sorted_image_files \u001b[38;5;241m=\u001b[39m \u001b[38;5;28msorted\u001b[39m(image_files, key\u001b[38;5;241m=\u001b[39m\u001b[38;5;28;01mlambda\u001b[39;00m x: \u001b[38;5;28mint\u001b[39m(\u001b[38;5;124m'\u001b[39m\u001b[38;5;124m'\u001b[39m\u001b[38;5;241m.\u001b[39mjoin(\u001b[38;5;28mfilter\u001b[39m(\u001b[38;5;28mstr\u001b[39m\u001b[38;5;241m.\u001b[39misdigit, x))))\n",
      "\u001b[1;31mNotADirectoryError\u001b[0m: [WinError 267] 디렉터리 이름이 올바르지 않습니다: '/Users/402-07/Korean-Recognition/Python/tools/image-data-256/hangul-images/hangul_343.jpeg'"
     ]
    }
   ],
   "source": [
    "import easyocr\n",
    "import os\n",
    "\n",
    "\n",
    "\n",
    "a = []\n",
    "def extract_text_from_image(folder_path, languages=['en', 'ko']):\n",
    "    # OCR 리더 초기화\n",
    "    \n",
    "    \n",
    "    # List all files in the folder\n",
    "    all_files = os.listdir(folder_path)\n",
    " \n",
    "    image_files = [file for file in all_files if file.endswith('.jpeg')]\n",
    "    sorted_image_files = sorted(image_files, key=lambda x: int(''.join(filter(str.isdigit, x))))\n",
    "    # print(sorted_image_files)\n",
    "    # Filter out only the image files, assuming they have a certain extension (e.g., '.png')\n",
    "    \n",
    "    \n",
    "    # Iterate over each image file\n",
    "    flag = False\n",
    "    list = []\n",
    "    \n",
    "    for image_file in sorted_image_files:\n",
    "        # Construct the full path to the image file\n",
    "        image_path = os.path.join(folder_path, image_file)\n",
    "\n",
    "        reader = easyocr.Reader(languages)\n",
    "    \n",
    "        # 이미지 파일에서 텍스트 추출\n",
    "        result = reader.readtext(image_path)\n",
    "        \n",
    "        for ( bbox, text, prob) in result:\n",
    "            list.append(text)\n",
    "\n",
    "    # # 추출된 텍스트 출력\n",
    "        for detection in result:\n",
    "            print(detection)\n",
    "\n",
    "# 이미지 파일 경로 설정\n",
    "folder_path = '/Users/402-07/YoungMan_projectDE/receipt_list/32.jpg'\n",
    "folder_path = '/Users/402-07/Korean-Recognition/Python/tools/image-data-256/hangul-images/hangul_343.jpeg'\n",
    "# 언어 설정 및 이미지에서 텍스트 추출\n",
    "\n",
    "text_result = extract_text_from_image(folder_path, languages=['en', 'ko'])\n",
    "print(a)"
   ]
  },
  {
   "cell_type": "code",
   "execution_count": 24,
   "id": "2b859b72-d260-40cb-8954-d0b576bd3f5f",
   "metadata": {},
   "outputs": [
    {
     "ename": "IndexError",
     "evalue": "list index out of range",
     "output_type": "error",
     "traceback": [
      "\u001b[1;31m---------------------------------------------------------------------------\u001b[0m",
      "\u001b[1;31mIndexError\u001b[0m                                Traceback (most recent call last)",
      "Cell \u001b[1;32mIn[24], line 10\u001b[0m\n\u001b[0;32m      8\u001b[0m \u001b[38;5;28;01mfor\u001b[39;00m i \u001b[38;5;129;01min\u001b[39;00m \u001b[38;5;28mrange\u001b[39m(\u001b[38;5;241m0\u001b[39m, \u001b[38;5;28mlen\u001b[39m(a), \u001b[38;5;241m4\u001b[39m):\n\u001b[0;32m      9\u001b[0m     product_name \u001b[38;5;241m=\u001b[39m a[i]\n\u001b[1;32m---> 10\u001b[0m     price \u001b[38;5;241m=\u001b[39m \u001b[43ma\u001b[49m\u001b[43m[\u001b[49m\u001b[43mi\u001b[49m\u001b[43m \u001b[49m\u001b[38;5;241;43m+\u001b[39;49m\u001b[43m \u001b[49m\u001b[38;5;241;43m1\u001b[39;49m\u001b[43m]\u001b[49m\n\u001b[0;32m     11\u001b[0m     quantity \u001b[38;5;241m=\u001b[39m \u001b[38;5;28mint\u001b[39m(a[i \u001b[38;5;241m+\u001b[39m \u001b[38;5;241m2\u001b[39m])\n\u001b[0;32m     12\u001b[0m     total_price \u001b[38;5;241m=\u001b[39m \u001b[38;5;28mint\u001b[39m(re\u001b[38;5;241m.\u001b[39msub(\u001b[38;5;124mr\u001b[39m\u001b[38;5;124m'\u001b[39m\u001b[38;5;124m[^\u001b[39m\u001b[38;5;124m\\\u001b[39m\u001b[38;5;124md]\u001b[39m\u001b[38;5;124m'\u001b[39m, \u001b[38;5;124m'\u001b[39m\u001b[38;5;124m'\u001b[39m, a[i \u001b[38;5;241m+\u001b[39m \u001b[38;5;241m3\u001b[39m]))\n",
      "\u001b[1;31mIndexError\u001b[0m: list index out of range"
     ]
    }
   ],
   "source": [
    "import re\n",
    "import json\n",
    "\n",
    "# JSON 객체 초기화\n",
    "json_data = []\n",
    "\n",
    "# 텍스트 처리 및 JSON 객체 구성\n",
    "for i in range(0, len(a), 4):\n",
    "    product_name = a[i]\n",
    "    price = a[i + 1]\n",
    "    quantity = int(a[i + 2])\n",
    "    total_price = int(re.sub(r'[^\\d]', '', a[i + 3]))\n",
    "\n",
    "    # JSON 객체 구성\n",
    "    product_data = {\n",
    "        \"품명\": product_name,\n",
    "        \"단가\": price,\n",
    "        \"수량\": quantity,\n",
    "        \"금액\": total_price\n",
    "    }\n",
    "\n",
    "    # JSON 객체를 리스트에 추가\n",
    "    json_data.append(product_data)\n",
    "\n",
    "# # JSON 객체를 파일로 저장\n",
    "# output_file_path = \"output_result.json\"\n",
    "# with open(output_file_path, \"w\", encoding=\"utf-8\") as json_file:\n",
    "#     json.dump(json_data, json_file, ensure_ascii=False, indent=4)\n",
    "\n",
    "# print(f\"Output saved to {output_file_path}\")\n"
   ]
  },
  {
   "cell_type": "code",
   "execution_count": null,
   "id": "80d17a57-7e54-4737-96b2-ddf50e381b5a",
   "metadata": {},
   "outputs": [],
   "source": []
  }
 ],
 "metadata": {
  "kernelspec": {
   "display_name": "Python 3 (ipykernel)",
   "language": "python",
   "name": "python3"
  },
  "language_info": {
   "codemirror_mode": {
    "name": "ipython",
    "version": 3
   },
   "file_extension": ".py",
   "mimetype": "text/x-python",
   "name": "python",
   "nbconvert_exporter": "python",
   "pygments_lexer": "ipython3",
   "version": "3.9.0"
  }
 },
 "nbformat": 4,
 "nbformat_minor": 5
}
