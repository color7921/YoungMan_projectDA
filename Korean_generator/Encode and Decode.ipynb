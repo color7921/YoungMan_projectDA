{
 "cells": [
  {
   "cell_type": "code",
   "execution_count": 2,
   "metadata": {},
   "outputs": [],
   "source": [
    "def encode_from_utf8(x):\n",
    "    return list(map(float,bin(int(x.encode().hex(),16))[2:]))"
   ]
  },
  {
   "cell_type": "code",
   "execution_count": 105,
   "metadata": {},
   "outputs": [],
   "source": [
    "def decode_from_bin(x):\n",
    "    res = \"\"\n",
    "    for i in x:\n",
    "        res+=str(round(i))\n",
    "        pass\n",
    "    return bytearray.fromhex(hex(int(res, 2))[2:]).decode()"
   ]
  },
  {
   "cell_type": "code",
   "execution_count": 106,
   "metadata": {},
   "outputs": [
    {
     "name": "stdout",
     "output_type": "stream",
     "text": [
      "[1.0, 1.0, 1.0, 0.0, 1.0, 1.0, 0.0, 1.0, 1.0, 0.0, 0.0, 1.0, 1.0, 1.0, 1.0, 0.0, 1.0, 0.0, 1.0, 0.0, 0.0, 0.0, 1.0, 1.0]\n",
      "힣\n"
     ]
    }
   ],
   "source": [
    "res_encode = encode_from_utf8('힣')\n",
    "print(res_encode)\n",
    "res_decode = decode_from_bin(res_encode)\n",
    "print(res_decode)"
   ]
  }
 ],
 "metadata": {
  "kernelspec": {
   "display_name": "Python 3",
   "language": "python",
   "name": "python3"
  },
  "language_info": {
   "codemirror_mode": {
    "name": "ipython",
    "version": 3
   },
   "file_extension": ".py",
   "mimetype": "text/x-python",
   "name": "python",
   "nbconvert_exporter": "python",
   "pygments_lexer": "ipython3",
   "version": "3.7.6"
  }
 },
 "nbformat": 4,
 "nbformat_minor": 4
}
