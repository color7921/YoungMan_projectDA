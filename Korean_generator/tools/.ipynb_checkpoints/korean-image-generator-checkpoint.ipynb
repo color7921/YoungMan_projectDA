{
 "cells": [
  {
   "cell_type": "code",
   "execution_count": 8,
   "metadata": {},
   "outputs": [
    {
     "name": "stderr",
     "output_type": "stream",
     "text": [
      "C:\\Users\\402-07\\AppData\\Local\\Temp\\ipykernel_15408\\3497665864.py:9: DeprecationWarning: Please use `map_coordinates` from the `scipy.ndimage` namespace, the `scipy.ndimage.interpolation` namespace is deprecated.\n",
      "  from scipy.ndimage.interpolation import map_coordinates\n",
      "C:\\Users\\402-07\\AppData\\Local\\Temp\\ipykernel_15408\\3497665864.py:10: DeprecationWarning: Please use `gaussian_filter` from the `scipy.ndimage` namespace, the `scipy.ndimage.filters` namespace is deprecated.\n",
      "  from scipy.ndimage.filters import gaussian_filter\n"
     ]
    }
   ],
   "source": [
    "import argparse\n",
    "import glob\n",
    "import io\n",
    "import os\n",
    "import random\n",
    "\n",
    "import numpy\n",
    "from PIL import Image, ImageFont, ImageDraw\n",
    "from scipy.ndimage.interpolation import map_coordinates\n",
    "from scipy.ndimage.filters import gaussian_filter"
   ]
  },
  {
   "cell_type": "code",
   "execution_count": 9,
   "metadata": {},
   "outputs": [],
   "source": [
    "SCRIPT_PATH = os.path.dirname(os.path.abspath('korean-image-generator'))\n",
    "\n",
    "# Default data paths.\n",
    "DEFAULT_LABEL_FILE = os.path.join(SCRIPT_PATH, '../labels/2350-common-hangul.txt')\n",
    "DEFAULT_FONTS_DIR  = os.path.join(SCRIPT_PATH, '../fonts')\n",
    "DEFAULT_OUTPUT_DIR = os.path.join(SCRIPT_PATH, '../image-data')\n",
    "\n",
    "# Number of random distortion images to generate per font and character.\n",
    "DISTORTION_COUNT = 3\n",
    "\n",
    "# Width and height of the resulting image.\n",
    "IMAGE_WIDTH = 64\n",
    "IMAGE_HEIGHT = 64"
   ]
  },
  {
   "cell_type": "code",
   "execution_count": 10,
   "metadata": {},
   "outputs": [],
   "source": [
    "SCRIPT_PATH = os.path.dirname(os.path.abspath('korean-image-generator'))\n",
    "\n",
    "# Default data paths.\n",
    "DEFAULT_LABEL_FILE = os.path.join(SCRIPT_PATH, '../labels/512-common-hangul.txt')\n",
    "DEFAULT_FONTS_DIR  = os.path.join(SCRIPT_PATH, '../fonts')\n",
    "DEFAULT_OUTPUT_DIR = os.path.join(SCRIPT_PATH, '../image-data-512')\n",
    "\n",
    "# Number of random distortion images to generate per font and character.\n",
    "DISTORTION_COUNT = 3\n",
    "\n",
    "# Width and height of the resulting image.\n",
    "IMAGE_WIDTH = 64\n",
    "IMAGE_HEIGHT = 64"
   ]
  },
  {
   "cell_type": "code",
   "execution_count": 50,
   "metadata": {},
   "outputs": [],
   "source": [
    "SCRIPT_PATH = os.path.dirname(os.path.abspath('korean-image-generator'))\n",
    "\n",
    "# Default data paths.\n",
    "DEFAULT_LABEL_FILE = os.path.join(SCRIPT_PATH, 'labels/256-common-hangul.txt')\n",
    "DEFAULT_FONTS_DIR  = os.path.join(SCRIPT_PATH, 'fonts')\n",
    "DEFAULT_OUTPUT_DIR = os.path.join(SCRIPT_PATH, 'image-data-256')\n",
    "\n",
    "# Number of random distortion images to generate per font and character.\n",
    "DISTORTION_COUNT = 3\n",
    "\n",
    "# Width and height of the resulting image.\n",
    "IMAGE_WIDTH = 64\n",
    "IMAGE_HEIGHT = 64"
   ]
  },
  {
   "cell_type": "code",
   "execution_count": 80,
   "metadata": {},
   "outputs": [],
   "source": [
    "def generate_hangul_images(label_file, fonts_dir, output_dir):\n",
    "    with io.open(label_file, 'r', encoding='utf-8') as f:\n",
    "        labels = f.read().splitlines()\n",
    "        \n",
    "    image_dir = os.path.join(output_dir, 'hangul-images')\n",
    "    if not os.path.exists(image_dir):\n",
    "        os.makedirs(os.path.join(image_dir))\n",
    "\n",
    "    # Get a list of the fonts.\n",
    "    print(os.path.join(fonts_dir, '*.ttf'))\n",
    "    fonts = glob.glob(os.path.join(fonts_dir, '*.ttf'))\n",
    "\n",
    "    labels_csv = io.open(os.path.join(output_dir, 'labels-map.csv'), 'w',\n",
    "                         encoding='utf-8')\n",
    "    \n",
    "    total_count = 0\n",
    "    prev_count = 0\n",
    "    for character in labels:\n",
    "        # Print image count roughly every 5000 images.\n",
    "        if total_count - prev_count > 5000:\n",
    "            prev_count = total_count\n",
    "            print('{} images generated...'.format(total_count))\n",
    "        \n",
    "        for font in fonts:\n",
    "            total_count += 1\n",
    "            image = Image.new('L', (IMAGE_WIDTH, IMAGE_HEIGHT), color=0)\n",
    "            font = ImageFont.truetype(font, 48)\n",
    "            drawing = ImageDraw.Draw(image)\n",
    "            # w, h = drawing.textsize(character, font=font)\n",
    "            drawing.text(\n",
    "                ((IMAGE_WIDTH/4), (IMAGE_HEIGHT)/4),\n",
    "                character,\n",
    "                fill=(255),\n",
    "                font=font\n",
    "            )\n",
    "            file_string = 'hangul_{}.jpeg'.format(total_count)\n",
    "            file_path = os.path.join(image_dir, file_string)\n",
    "            image.save(file_path, 'JPEG')\n",
    "            labels_csv.write(u'{},{}\\n'.format(file_path, character))\n",
    "\n",
    "            for i in range(DISTORTION_COUNT):\n",
    "                total_count += 1\n",
    "                file_string = 'hangul_{}.jpeg'.format(total_count)\n",
    "                file_path = os.path.join(image_dir, file_string)\n",
    "                arr = numpy.array(image)\n",
    "\n",
    "                distorted_array = elastic_distort(\n",
    "                    arr, alpha=random.randint(30, 36),\n",
    "                    sigma=random.randint(5, 6)\n",
    "                )\n",
    "                distorted_image = Image.fromarray(distorted_array)\n",
    "                distorted_image.save(file_path, 'JPEG')\n",
    "                labels_csv.write(u'{},{}\\n'.format(file_path, character))\n",
    "\n",
    "    print('Finished generating {} images.'.format(total_count))\n",
    "    labels_csv.close()\n",
    "\n",
    "\n",
    "def elastic_distort(image, alpha, sigma):\n",
    "    random_state = numpy.random.RandomState(None)\n",
    "    shape = image.shape\n",
    "\n",
    "    dx = gaussian_filter(\n",
    "        (random_state.rand(*shape) * 2 - 1),\n",
    "        sigma, mode=\"constant\"\n",
    "    ) * alpha\n",
    "    dy = gaussian_filter(\n",
    "        (random_state.rand(*shape) * 2 - 1),\n",
    "        sigma, mode=\"constant\"\n",
    "    ) * alpha\n",
    "\n",
    "    x, y = numpy.meshgrid(numpy.arange(shape[0]), numpy.arange(shape[1]))\n",
    "    indices = numpy.reshape(y+dy, (-1, 1)), numpy.reshape(x+dx, (-1, 1))\n",
    "    return map_coordinates(image, indices, order=1).reshape(shape)"
   ]
  },
  {
   "cell_type": "code",
   "execution_count": 81,
   "metadata": {
    "scrolled": true
   },
   "outputs": [
    {
     "name": "stdout",
     "output_type": "stream",
     "text": [
      "10.1.0\n",
      "output_dir C:\\Users\\402-07\\Korean-Recognition\\Python\\tools\\image-data-256\n",
      "C:\\Users\\402-07\\Korean-Recognition\\Python\\tools\\fonts\n",
      "C:\\Users\\402-07\\Korean-Recognition\\Python\\tools\\fonts\\*.ttf\n",
      "5024 images generated...\n",
      "Finished generating 8192 images.\n"
     ]
    }
   ],
   "source": [
    "generate_hangul_images(DEFAULT_LABEL_FILE, DEFAULT_FONTS_DIR, DEFAULT_OUTPUT_DIR)"
   ]
  },
  {
   "cell_type": "code",
   "execution_count": null,
   "metadata": {},
   "outputs": [],
   "source": []
  }
 ],
 "metadata": {
  "kernelspec": {
   "display_name": "Python 3 (ipykernel)",
   "language": "python",
   "name": "python3"
  },
  "language_info": {
   "codemirror_mode": {
    "name": "ipython",
    "version": 3
   },
   "file_extension": ".py",
   "mimetype": "text/x-python",
   "name": "python",
   "nbconvert_exporter": "python",
   "pygments_lexer": "ipython3",
   "version": "3.9.0"
  }
 },
 "nbformat": 4,
 "nbformat_minor": 4
}
