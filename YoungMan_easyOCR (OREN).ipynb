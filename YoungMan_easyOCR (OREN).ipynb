{
 "cells": [
  {
   "cell_type": "code",
   "execution_count": 1,
   "id": "51d34567-2b78-415a-8189-3bd023d3d0e9",
   "metadata": {},
   "outputs": [
    {
     "name": "stdout",
     "output_type": "stream",
     "text": [
      "Requirement already satisfied: opencv-python in c:\\users\\402-07\\anaconda3\\envs\\torch_book\\lib\\site-packages (4.8.1.78)\n",
      "Requirement already satisfied: easyocr in c:\\users\\402-07\\anaconda3\\envs\\torch_book\\lib\\site-packages (1.7.1)\n",
      "Requirement already satisfied: numpy>=1.17.0 in c:\\users\\402-07\\anaconda3\\envs\\torch_book\\lib\\site-packages (from opencv-python) (1.26.0)\n",
      "Requirement already satisfied: torch in c:\\users\\402-07\\anaconda3\\envs\\torch_book\\lib\\site-packages (from easyocr) (1.9.0)\n",
      "Requirement already satisfied: torchvision>=0.5 in c:\\users\\402-07\\anaconda3\\envs\\torch_book\\lib\\site-packages (from easyocr) (0.10.0)\n",
      "Requirement already satisfied: opencv-python-headless in c:\\users\\402-07\\anaconda3\\envs\\torch_book\\lib\\site-packages (from easyocr) (4.8.1.78)\n",
      "Requirement already satisfied: scipy in c:\\users\\402-07\\anaconda3\\envs\\torch_book\\lib\\site-packages (from easyocr) (1.11.4)\n",
      "Requirement already satisfied: Pillow in c:\\users\\402-07\\anaconda3\\envs\\torch_book\\lib\\site-packages (from easyocr) (10.1.0)\n",
      "Requirement already satisfied: scikit-image in c:\\users\\402-07\\anaconda3\\envs\\torch_book\\lib\\site-packages (from easyocr) (0.22.0)\n",
      "Requirement already satisfied: python-bidi in c:\\users\\402-07\\anaconda3\\envs\\torch_book\\lib\\site-packages (from easyocr) (0.4.2)\n",
      "Requirement already satisfied: PyYAML in c:\\users\\402-07\\anaconda3\\envs\\torch_book\\lib\\site-packages (from easyocr) (6.0.1)\n",
      "Requirement already satisfied: Shapely in c:\\users\\402-07\\anaconda3\\envs\\torch_book\\lib\\site-packages (from easyocr) (2.0.2)\n",
      "Requirement already satisfied: pyclipper in c:\\users\\402-07\\anaconda3\\envs\\torch_book\\lib\\site-packages (from easyocr) (1.3.0.post5)\n",
      "Requirement already satisfied: ninja in c:\\users\\402-07\\anaconda3\\envs\\torch_book\\lib\\site-packages (from easyocr) (1.11.1.1)\n",
      "Requirement already satisfied: typing_extensions in c:\\users\\402-07\\anaconda3\\envs\\torch_book\\lib\\site-packages (from torch->easyocr) (4.7.1)\n",
      "Requirement already satisfied: six in c:\\users\\402-07\\anaconda3\\envs\\torch_book\\lib\\site-packages (from python-bidi->easyocr) (1.16.0)\n",
      "Requirement already satisfied: networkx>=2.8 in c:\\users\\402-07\\anaconda3\\envs\\torch_book\\lib\\site-packages (from scikit-image->easyocr) (3.2.1)\n",
      "Requirement already satisfied: imageio>=2.27 in c:\\users\\402-07\\anaconda3\\envs\\torch_book\\lib\\site-packages (from scikit-image->easyocr) (2.33.1)\n",
      "Requirement already satisfied: tifffile>=2022.8.12 in c:\\users\\402-07\\anaconda3\\envs\\torch_book\\lib\\site-packages (from scikit-image->easyocr) (2023.12.9)\n",
      "Requirement already satisfied: packaging>=21 in c:\\users\\402-07\\anaconda3\\envs\\torch_book\\lib\\site-packages (from scikit-image->easyocr) (23.1)\n",
      "Requirement already satisfied: lazy_loader>=0.3 in c:\\users\\402-07\\anaconda3\\envs\\torch_book\\lib\\site-packages (from scikit-image->easyocr) (0.3)\n",
      "Note: you may need to restart the kernel to use updated packages.\n"
     ]
    }
   ],
   "source": [
    "pip install opencv-python easyocr"
   ]
  },
  {
   "cell_type": "code",
   "execution_count": 7,
   "id": "440b4ac3-8879-45dd-ae1f-312f2b226e8f",
   "metadata": {},
   "outputs": [
    {
     "data": {
      "text/plain": [
       "True"
      ]
     },
     "execution_count": 7,
     "metadata": {},
     "output_type": "execute_result"
    }
   ],
   "source": [
    "import torch\n",
    "torch.cuda.is_available()"
   ]
  },
  {
   "cell_type": "code",
   "execution_count": 8,
   "id": "49298638-bec5-4b4b-8b3c-fc27c8c94d9e",
   "metadata": {},
   "outputs": [],
   "source": [
    "import cv2\n",
    "import easyocr\n",
    "import json\n",
    "from PIL import Image, ImageDraw"
   ]
  },
  {
   "cell_type": "code",
   "execution_count": 9,
   "id": "b84e225f-e8f1-4f68-832f-ab5a8bac4b82",
   "metadata": {},
   "outputs": [],
   "source": [
    "def preprocess_image(image_path):\n",
    "    # Read the image\n",
    "    image = cv2.imread(image_path)\n",
    "    \n",
    "    # Convert the image to grayscale\n",
    "    gray = cv2.cvtColor(image, cv2.COLOR_BGR2GRAY)\n",
    "    \n",
    "    # Apply Gaussian blur\n",
    "    blur = cv2.GaussianBlur(gray, (5,5), 0)\n",
    "    \n",
    "    # Use adaptive thresholding to create a binary image\n",
    "    thresh = cv2.adaptiveThreshold(blur, 255, cv2.ADAPTIVE_THRESH_GAUSSIAN_C,\n",
    "                                   cv2.THRESH_BINARY_INV, 11, 2)\n",
    "    \n",
    "    # Dilate the image to connect individual elements\n",
    "    kernel = cv2.getStructuringElement(cv2.MORPH_RECT, (3,3))\n",
    "    dilate = cv2.dilate(thresh, kernel, iterations=1)\n",
    "    \n",
    "    return dilate"
   ]
  },
  {
   "cell_type": "code",
   "execution_count": 10,
   "id": "af8859c8-59fa-4040-874c-ee8590381fff",
   "metadata": {},
   "outputs": [],
   "source": [
    "def run_model(image_path):\n",
    "# 이미지 경로\n",
    "\n",
    "\n",
    "# OpenCV를 사용하여 이미지 읽기\n",
    "\n",
    "    image = image_path\n",
    "\n",
    "# EasyOCR을 초기화하고 사용할 언어를 설정\n",
    "    reader = easyocr.Reader(['en', 'ko'], gpu=True)\n",
    "\n",
    "# 이미지에서 텍스트 추출\n",
    "    result = reader.readtext(image)\n",
    "    \n",
    "    for (bbox, text, prob) in result:\n",
    "        print(f'{text}')\n",
    "\n",
    "    return None"
   ]
  },
  {
   "cell_type": "code",
   "execution_count": 16,
   "id": "c76dc528-d89f-4ba9-b26c-06419dfbcf8b",
   "metadata": {},
   "outputs": [],
   "source": [
    "def run_boxModel(image_path):\n",
    "    import easyocr\n",
    "    import cv2\n",
    "\n",
    "# Create an EasyOCR reader\n",
    "    reader = easyocr.Reader(['en', 'ko'], gpu=True)\n",
    "\n",
    "    proccessed_iamge = preprocess_image(image_path)\n",
    "\n",
    "# Detect text and bounding boxes\n",
    "    results = reader.readtext(proccessed_iamge, width_ths=15, ycenter_ths = 0.5, adjust_contrast = 0.5, add_margin = 0.5)\n",
    "\n",
    "    image = cv2.imread(image_path)\n",
    "\n",
    "# Detect text and bounding boxes\n",
    "    # kernel = np.ones((5,5), np.uint8)\n",
    "    # # dilate = cv2.morphologyEx(image, cv2.MORPH_OPEN, kernel)\n",
    "    # dilate = cv2.erode(image, kernel)\n",
    "\n",
    "    cv2.imwrite('/Users/402-07/YoungMan_projectDE/box/dilate_image.jpg', image)\n",
    "    flag = False\n",
    "    text_lists = []\n",
    "    list = []\n",
    "    for i, (bbox, text, prob) in enumerate(results):\n",
    "    # Extract coordinates of the bounding box\n",
    "        top_left = (int(bbox[0][0]), int(bbox[0][1]))\n",
    "        bottom_right = (int(bbox[2][0]), int(bbox[2][1]))\n",
    "\n",
    "    # Crop the bounding box area\n",
    "        cropped_image = image[top_left[1]:bottom_right[1], top_left[0]:bottom_right[0]]\n",
    "        list.append(cropped_image)\n",
    "        Image.fromarray(cropped_image).save(f'cropped_text_{i}.png')\n",
    "            \n",
    "    for image in list:\n",
    "        crop_results = reader.recognize(image)\n",
    "        for (bbox, text, prob) in crop_results:\n",
    "            # print(text)\n",
    "            text_lists.append(text)\n",
    "    print(text_lists)\n",
    "            \n",
    "    # Save the cropped image\n",
    "    # for text in text_lists:\n",
    "    #     if flag and \"판매소계\" in text or \"판매\" in text:\n",
    "    #         break\n",
    "    #     if flag:\n",
    "    #         a.append(text)\n",
    "    #     if \"금액\" in text:\n",
    "    #         flag = True\n",
    "\n",
    "\n",
    "    \n",
    "        #print(f\"Text: {text}, Confidence: {prob}\")\n",
    "    return None"
   ]
  },
  {
   "cell_type": "code",
   "execution_count": 15,
   "id": "a03fa7bf-9296-499e-8d7e-36d6e680a815",
   "metadata": {
    "scrolled": true
   },
   "outputs": [
    {
     "name": "stdout",
     "output_type": "stream",
     "text": [
      "['M엔에스컴퍼니', \"'2022-04-19\", '~', 'Frill', \"'5좀 1712\", '01076290920)', '01058585f46', \"~'--;--=-- :===---------:- ;\", '디오트 5증 J1,J2 뜨길', '{장문 010-5858-5646', 'KAKAO trill_', 'insta f+ill_Mholesale', '우리은행 1005-304-300565', 'ECHAT ID +rili_wholesale', '2022-04-19 00:10 (화) 78,UUO   영수(현금', '뚜명   단가   수량   금액', '한스시검정   39,000 1   39,000', '한스j보카베이지   39,000 1   39,000', '만매소계 -   2   2   78,000', 'KCuTk', '잔', '0', '당일말계:   78,000', '연', \"'금입금:   78,000\", '당   잔', '우리은행 1005-304-300565', '(가기현frill', '반품', '{킬쨌물', '_부구필부둑 -', '끊액입다다', '물들성삼 흰색@L름 제품문 교환물가', '매월 5 일 마감입니다', \"'입은 매입일로부터 모개원만 유포맙니\", '디오트', '입금처', '#자료는']\n"
     ]
    }
   ],
   "source": [
    "image_path = '/Users/402-07/YoungMan_projectDE/receipt_list/08.jpg'\n",
    "run_boxModel(image_path)"
   ]
  },
  {
   "cell_type": "code",
   "execution_count": 80,
   "id": "c5b24c08-4021-4cc8-8398-1c0ab0b9ef8d",
   "metadata": {},
   "outputs": [],
   "source": [
    "def run_redboxModel(image_path):\n",
    "    import easyocr\n",
    "    import cv2\n",
    "# Create an EasyOCR reader\n",
    "    reader = easyocr.Reader(['en', 'ko'], gpu=True)\n",
    "\n",
    "    proccessed_image = preprocess_image(image_path)\n",
    "\n",
    "# Detect text and bounding boxes\n",
    "    # results = reader.detect(proccessed_image, width_ths=0.7)\n",
    "    # result = results[0]\n",
    "    image = cv2.imread(image_path)\n",
    "\n",
    "    result = reader.readtext(proccessed_image, width_ths = 500, ycenter_ths = 10)\n",
    "    \n",
    "    for i, (bbox, text, prob) in enumerate(result):\n",
    "    # Extract coordinates of the bounding box\n",
    "        top_left = (int(bbox[0][0]), int(bbox[0][1]))\n",
    "        bottom_right = (int(bbox[2][0]), int(bbox[2][1]))\n",
    "        \n",
    "    # #Unpack the bounding box\n",
    "    #     (top_left, top_right, bottom_right, bottom_left) = bbox\n",
    "\n",
    "    # # Convert coordinates to integer\n",
    "    #     top_left = (int(top_left[0]), int(top_left[1]))\n",
    "    #     bottom_right = (int(bottom_right[0]), int(bottom_right[1]))\n",
    "\n",
    "    # Draw a red rectangle on the original image\n",
    "        cv2.rectangle(image, top_left, bottom_right, (0, 0, 255), 2)  # Red color and 2 px thickness\n",
    "\n",
    "# Display the image with bounding boxes\n",
    "    cv2.imwrite('/Users/402-07/YoungMan_projectDE/test_result/image_with_boxes.jpg', image)\n",
    "    return None"
   ]
  },
  {
   "cell_type": "code",
   "execution_count": 226,
   "id": "0fb8864d-04aa-4fbf-ab21-f99d4d40836a",
   "metadata": {},
   "outputs": [],
   "source": [
    "image_path = '/Users/402-08/train/img73.jpg'\n",
    "run_redboxModel(image_path)"
   ]
  },
  {
   "cell_type": "code",
   "execution_count": 222,
   "id": "66881742-f5ca-4e62-b839-6ff36c148e5f",
   "metadata": {},
   "outputs": [],
   "source": [
    "def slice_image(image_path):\n",
    "    import cv2\n",
    "    import numpy as np\n",
    "\n",
    "    # 이미지 로드\n",
    "    image = cv2.imread(image_path)\n",
    "\n",
    "    # 이미지 크기 계산\n",
    "    height, width = image.shape[:2]\n",
    "\n",
    "    # 이미지를 수평으로 반으로 나눔\n",
    "    left_side = image[:, :width//2]\n",
    "    right_side = image[:, width//2:]\n",
    "\n",
    "    # 왼쪽 부분을 살짝 아래로 내림 (예: 50 픽셀)\n",
    "    shift_up = 35\n",
    "    M = np.float32([[1, 0, 0], [0, 1, shift_up]])\n",
    "    left_shifted = cv2.warpAffine(left_side, M, (left_side.shape[1], left_side.shape[0]))\n",
    "\n",
    "    # 변환된 이미지를 다시 합침\n",
    "    shifted_height = left_shifted.shape[0]\n",
    "    combined = np.zeros((shifted_height, width, 3), dtype=np.uint8)\n",
    "    combined[:height, :width//2] = left_shifted\n",
    "    combined[:height, width//2:] = right_side\n",
    "\n",
    "    # 결과 이미지\n",
    "    cv2.imwrite('train/redbox_image/sliced_image.jpg', combined)\n",
    "    return None\n"
   ]
  },
  {
   "cell_type": "code",
   "execution_count": 223,
   "id": "32d3cc3f-dd99-4f40-840b-8c77bab66ca1",
   "metadata": {},
   "outputs": [],
   "source": [
    "image_path = '/Users/402-08/train/img73.jpg'\n",
    "slice_image(image_path)"
   ]
  },
  {
   "cell_type": "code",
   "execution_count": null,
   "id": "a6c0b4e0-a1b3-4f8e-b8d4-7e6b66756bac",
   "metadata": {},
   "outputs": [],
   "source": []
  }
 ],
 "metadata": {
  "kernelspec": {
   "display_name": "Python 3 (ipykernel)",
   "language": "python",
   "name": "python3"
  },
  "language_info": {
   "codemirror_mode": {
    "name": "ipython",
    "version": 3
   },
   "file_extension": ".py",
   "mimetype": "text/x-python",
   "name": "python",
   "nbconvert_exporter": "python",
   "pygments_lexer": "ipython3",
   "version": "3.9.0"
  }
 },
 "nbformat": 4,
 "nbformat_minor": 5
}
